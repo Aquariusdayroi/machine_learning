{
 "cells": [
  {
   "cell_type": "markdown",
   "id": "f3c3ac4a",
   "metadata": {},
   "source": [
    "## Họ và Tên: Lâm Quang Phú\n",
    "## MSSV: 21094601"
   ]
  },
  {
   "cell_type": "code",
   "execution_count": 1,
   "id": "2ae4f9c3",
   "metadata": {},
   "outputs": [],
   "source": [
    "import numpy as np\n",
    "from scipy import integrate  \n",
    "from scipy import stats as st\n",
    "import sympy as sp"
   ]
  },
  {
   "cell_type": "markdown",
   "id": "efdc2f4f",
   "metadata": {},
   "source": [
    "## Bài 1:\n",
    "Viết hàm tính kỳ vọng theo định nghĩa như sau:\n",
    "- Kỳ vọng (expected value): là giá trị trung bình sau khi lặp lại một thí nghiệm vô số lần\n",
    "- Ký hiệu: E(X)"
   ]
  },
  {
   "cell_type": "markdown",
   "id": "1d4cf867",
   "metadata": {},
   "source": [
    "- **Biến ngẫu nhiên rời rạc**\n",
    "$$ \\mu = E(x) = \\sum_{x} xf(x) $$"
   ]
  },
  {
   "cell_type": "code",
   "execution_count": 2,
   "id": "61896733",
   "metadata": {},
   "outputs": [],
   "source": [
    "def expected_values_discrete(variable_value, probaliti):\n",
    "    if len(variable_value)!= len(probaliti):\n",
    "        raise ValueError(\"Lỗi kích thước\")\n",
    "        \n",
    "    return round(np.sum(np.array(variable_value)*np.array(probaliti)), 4)\n"
   ]
  },
  {
   "cell_type": "code",
   "execution_count": 3,
   "id": "63e7c9d2",
   "metadata": {},
   "outputs": [
    {
     "name": "stdout",
     "output_type": "stream",
     "text": [
      "Kỳ vọng của biến ngẫu nhiên rời rạc X: 1.2\n"
     ]
    }
   ],
   "source": [
    "variable_value = [0, 1, 2, 3]\n",
    "probaliti = [1/6, 1/2, 3/10, 1/30]\n",
    "\n",
    "print(\"Kỳ vọng của biến ngẫu nhiên rời rạc X:\", expected_values_discrete(variable_value, probaliti))"
   ]
  },
  {
   "cell_type": "markdown",
   "id": "2a858a11",
   "metadata": {},
   "source": [
    "- **Trường hợp biến ngẫu nhiên liên tục**\n",
    "$$ \\mu = E(x)= \\int_{x} xf(x)$$"
   ]
  },
  {
   "cell_type": "code",
   "execution_count": 4,
   "id": "71c4ebc7",
   "metadata": {},
   "outputs": [],
   "source": [
    "def expected_values_continuous(pdf_function, low, high):\n",
    "    e_value, error = integrate.quad(lambda x: x*pdf_function(x), low, high)\n",
    "    return round(e_value,4)\n",
    "    "
   ]
  },
  {
   "cell_type": "markdown",
   "id": "7d91c372",
   "metadata": {},
   "source": [
    "$f(x) = \\frac{1}{450}*(30-x) $ với $x \\in  [0, 30]$"
   ]
  },
  {
   "cell_type": "code",
   "execution_count": 5,
   "id": "95652fe5",
   "metadata": {},
   "outputs": [
    {
     "name": "stdout",
     "output_type": "stream",
     "text": [
      "Kỳ vọng của biến ngẫu nhiên liên tục X:  10.0\n"
     ]
    }
   ],
   "source": [
    "\n",
    "\n",
    "def pdf_function(x):\n",
    "    return 1/450*(30-x)\n",
    "\n",
    "print(\"Kỳ vọng của biến ngẫu nhiên liên tục X: \", expected_values_continuous(pdf_function, 0, 30))"
   ]
  },
  {
   "cell_type": "markdown",
   "id": "06b721bc",
   "metadata": {},
   "source": [
    "## Bài 2:\n",
    "Viết hàm tính phương sai theo định nghĩa như sau:\n",
    "- Phương sai (variance): là trung bình của thổng bình phương độ lệch của tất cả giá trị của biến ngẫu nhiên so với giá trị kỳ vọng\n",
    "- Ký hiệu: $$ \\sigma^2 , var(x), V(x) $$\n",
    "- Công thức:\n",
    "**+ Trường hợp biến ngẫu nhiên rời rạc**\n",
    "$$ \\sigma^2 = E[(X- \\mu )^2] = \\sum _{x} f(x)(x- \\mu)^2 = E(X^2) - \\mu^2 = \\sum _{x} x^2f(x) - \\mu^2$$"
   ]
  },
  {
   "cell_type": "code",
   "execution_count": 6,
   "id": "52be3f91",
   "metadata": {},
   "outputs": [
    {
     "name": "stdout",
     "output_type": "stream",
     "text": [
      "Phương sai của biến ngẫu nhiên rời rạc X: 0.56\n"
     ]
    }
   ],
   "source": [
    "def variance(variable_value, probaliti):\n",
    "    if len(variable_value)!= len(probaliti):\n",
    "        raise ValueError(\"Lỗi kích thước\")\n",
    "    \n",
    "    ex = expected_values_discrete(variable_value, probaliti)\n",
    "    tmp = (np.array(variable_value)-ex)**2 *np.array(probaliti)\n",
    "    return np.sum(tmp)\n",
    "\n",
    "\n",
    "variable_value = [0, 1, 2, 3]\n",
    "probaliti = [1/6, 1/2, 3/10, 1/30]\n",
    "\n",
    "\n",
    "print(\"Phương sai của biến ngẫu nhiên rời rạc X:\", variance(variable_value, probaliti))"
   ]
  },
  {
   "cell_type": "markdown",
   "id": "795e0674",
   "metadata": {},
   "source": [
    "- **Trường hợp biến ngẫu nhiên liên tục**\n",
    "$$\\sigma^2 = E[(X- \\mu )^2] = \\int _{x} f(x)(x- \\mu)^2 = E(X^2) - \\mu^2 = \\int _{x} x^2f(x) - \\mu^2$$"
   ]
  },
  {
   "cell_type": "code",
   "execution_count": 7,
   "id": "c3686d2e",
   "metadata": {},
   "outputs": [],
   "source": [
    "def variance_continuous(pdf_function, low, high):\n",
    "    e_value, error = integrate.quad(lambda x: x*x*pdf_function(x), low, high) \n",
    "    \n",
    "    return e_value - expected_values_continuous(pdf_function, low, high)**2\n",
    "    \n",
    "    "
   ]
  },
  {
   "cell_type": "code",
   "execution_count": 8,
   "id": "90552093",
   "metadata": {},
   "outputs": [
    {
     "name": "stdout",
     "output_type": "stream",
     "text": [
      "Phương sai của biến ngẫu nhiên liên tục X:  50.0\n"
     ]
    }
   ],
   "source": [
    "def pdf_function(x):\n",
    "    return 1/450*(30-x)\n",
    "\n",
    "print(\"Phương sai của biến ngẫu nhiên liên tục X: \",variance_continuous(pdf_function, 0, 30))"
   ]
  },
  {
   "cell_type": "markdown",
   "id": "16862f1b",
   "metadata": {},
   "source": [
    "### Bài 3: \n",
    "Viết hàm tính độ lệch chuẩn theo định nghĩa như sau:"
   ]
  },
  {
   "cell_type": "code",
   "execution_count": 9,
   "id": "dfdbd568",
   "metadata": {},
   "outputs": [],
   "source": [
    "def standard_variation( variable_value =None, robaliti = None, pdf_function = None, low = None,  high = None):\n",
    "    if probaliti == None or variable_value == None:\n",
    "        return np.sqrt(variance_continuous(pdf_function, low, high))\n",
    "    return np.sqrt(variance(variable_value, probaliti))\n"
   ]
  },
  {
   "cell_type": "code",
   "execution_count": 10,
   "id": "18bd6a99",
   "metadata": {},
   "outputs": [
    {
     "name": "stdout",
     "output_type": "stream",
     "text": [
      "Độ lệch chuẩn của biến ngẫu nhiên rời rạc X: 0.7483314773547883\n",
      "Độ lệch chuẩn của biến ngẫu nhiên liên tục X: 7.0710678118654755\n"
     ]
    }
   ],
   "source": [
    "print(\"Độ lệch chuẩn của biến ngẫu nhiên rời rạc X:\", standard_variation(variable_value, probaliti))\n",
    "print(\"Độ lệch chuẩn của biến ngẫu nhiên liên tục X:\", standard_variation(pdf_function = pdf_function, low = 0, high = 30))"
   ]
  },
  {
   "cell_type": "markdown",
   "id": "0fea41dc",
   "metadata": {},
   "source": [
    "### Bài 4:\n",
    "\n",
    "\n",
    "\n",
    "\n"
   ]
  },
  {
   "cell_type": "markdown",
   "id": "5f47d14c",
   "metadata": {},
   "source": [
    "- **a. Một nhóm học sinh có 10 em, trong đó có 3 em học loại giỏi, 4 loại khá, còn lại là\n",
    "trung bình. Từ nhóm đó chọn ngẫu nhiên ra 3 học sinh. Gọi X là số học sinh giỏi trong số\n",
    "học sinh chọn ra**\n",
    "\n",
    "Lập bảng phân phối xác suất của X, đưa dữ liệu bảng này vào file data.txt\n",
    "Áp dụng các hàm đã viết ở 1,2,3 tính Kỳ vọng, Phương sai, Độ lệch chuẩn cho dữ liệu\n",
    "biến ngẫy nhiên rời rạc được cung cấp ở file data.txt"
   ]
  },
  {
   "cell_type": "markdown",
   "id": "8f35f87d",
   "metadata": {},
   "source": [
    "|  X |   0 | 1  | 2  | 3  |\n",
    "|---|---|---|---|---|\n",
    "|  P(X) | 7/24  | 21/40  | 7/40  | /120  |\n"
   ]
  },
  {
   "cell_type": "code",
   "execution_count": 11,
   "id": "03438894",
   "metadata": {},
   "outputs": [],
   "source": [
    "from scipy.special import comb"
   ]
  },
  {
   "cell_type": "code",
   "execution_count": 12,
   "id": "1a3e3809",
   "metadata": {},
   "outputs": [],
   "source": [
    "# Lập bảng phân phối và đưa dữ liệu vào file data.txt\n",
    "cnt0_student_good = comb(7, 3)/ comb(10, 3)\n",
    "cnt1_student_good = comb(3, 1)*comb(7, 2)/comb(10, 3)\n",
    "cnt2_student_good = comb(3, 2)*comb(7, 1)/comb(10, 3)\n",
    "cnt3_student_good = comb(3, 3)/comb(10, 3)\n",
    "\n",
    "\n",
    "ls = [cnt0_student_good, cnt1_student_good, cnt2_student_good, cnt3_student_good]\n",
    "\n",
    "with open(\"data.txt\", \"w\") as f:\n",
    "    for i in range(4):\n",
    "        f.write(f\"{i}: {ls[i]}\\n\")"
   ]
  },
  {
   "cell_type": "code",
   "execution_count": 13,
   "id": "11be1d4a",
   "metadata": {},
   "outputs": [
    {
     "name": "stdout",
     "output_type": "stream",
     "text": [
      "Kỳ vọng của biến ngẫu nhiên rời rạc X: 0.9\n",
      "Phương sai của biến ngẫu nhiên rời rạc X: 0.49000000000000005\n",
      "Độ lệch chuẩn của biến ngẫu nhiên rời rạc X: 0.7000000000000001\n"
     ]
    }
   ],
   "source": [
    "#Phương sai, Độ lệch chuẩn cho dữ liệu biến ngẫy nhiên rời rạc được cung cấp ở file data.txt\n",
    "\n",
    "variable_value = []\n",
    "probaliti = []\n",
    "\n",
    "with open(\"data.txt\", \"r\") as f:\n",
    "    \n",
    "    for line in f:\n",
    "        x, px = map(float, line.strip().split(':'))\n",
    "        variable_value.append(x)\n",
    "        probaliti.append(px)\n",
    "\n",
    "\n",
    "print(\"Kỳ vọng của biến ngẫu nhiên rời rạc X:\", expected_values_discrete(variable_value, probaliti))  \n",
    "print(\"Phương sai của biến ngẫu nhiên rời rạc X:\", variance(variable_value, probaliti))\n",
    "print(\"Độ lệch chuẩn của biến ngẫu nhiên rời rạc X:\", standard_variation(variable_value, probaliti))"
   ]
  },
  {
   "cell_type": "markdown",
   "id": "834b05de",
   "metadata": {},
   "source": [
    "- b. Áp dụng các hàm đã viết ở 1,2,3 tính Kỳ vọng, Phương sai, Độ lệch chuẩn cho dữ liệu\n",
    "biến ngẫy nhiên liên tục như mô tả sau: \\\n",
    "Nhu cầu hàng năm về loại hàng hóa A là biến ngẫu nhiên liên tục X có hàm mật\n",
    "độ xác suất như sau: (đơn vị: ngàn sản phẩm)\n",
    "\n",
    "$f(x)  = \\begin{Bmatrix}\n",
    "k(30-x) \\text{ voi x} \\in [0, 30]\n",
    "\\\\ \n",
    "0 x \\notin  [0, 30]\n",
    "\\end{Bmatrix} $"
   ]
  },
  {
   "cell_type": "markdown",
   "id": "e033ff3e",
   "metadata": {},
   "source": [
    "Vì $\\int_{-\\infty}^{+\\infty}f(x)  = 1$\n",
    "$$ \\int_{-\\infty}^{0}f(x) + \\int_{0}^{30}k(30-x) +\\int_{30}^{+\\infty}f(x) = 1$$\n",
    " $$  =>\\int_{0}^{30}k(30-x) = 1$$"
   ]
  },
  {
   "cell_type": "code",
   "execution_count": 14,
   "id": "e8e6fb65",
   "metadata": {},
   "outputs": [
    {
     "name": "stdout",
     "output_type": "stream",
     "text": [
      "K = 1/450\n"
     ]
    }
   ],
   "source": [
    "k =sp.Symbol('k')\n",
    "x = sp.Symbol('x')\n",
    "f =  30-x\n",
    "k =sp.solve(k*sp.integrate(f, (x,0, 30))-1, k)[0]\n",
    "print(\"K =\", k)"
   ]
  },
  {
   "cell_type": "code",
   "execution_count": 15,
   "id": "5e82730f",
   "metadata": {},
   "outputs": [
    {
     "name": "stdout",
     "output_type": "stream",
     "text": [
      "Kỳ vọng của biến ngẫu nhiên liên tục X:  10.0\n",
      "Phương sai của biến ngẫu nhiên liên tục X:  50.0\n",
      "Độ lệch chuẩn của biến ngẫu nhiên liên tục X: 7.0710678118654755\n"
     ]
    }
   ],
   "source": [
    "def f(x):\n",
    "    return 1/450*(30-x)\n",
    "#Kỳ vọng\n",
    "print(\"Kỳ vọng của biến ngẫu nhiên liên tục X: \", expected_values_continuous(f, 0, 30))\n",
    "#Phương sai\n",
    "print(\"Phương sai của biến ngẫu nhiên liên tục X: \",variance_continuous(f, 0, 30))\n",
    "# Độ lệch chuẩn\n",
    "print(\"Độ lệch chuẩn của biến ngẫu nhiên liên tục X:\", standard_variation(pdf_function = f, low = 0, high = 30))"
   ]
  },
  {
   "cell_type": "markdown",
   "id": "6586585d",
   "metadata": {},
   "source": [
    "- c. Sử dụng thư viện có sẵn tính Kỳ vọng, Phương sai, Độ lệch chuẩn cho dữ liệu ở câu a"
   ]
  },
  {
   "cell_type": "code",
   "execution_count": 16,
   "id": "3d561a83",
   "metadata": {
    "scrolled": true
   },
   "outputs": [],
   "source": [
    "variable_value = []\n",
    "probaliti = []\n",
    "\n",
    "with open(\"data.txt\", \"r\") as f:\n",
    "    \n",
    "    for line in f:\n",
    "        x, px = map(float, line.strip().split(':'))\n",
    "        variable_value.append(x)\n",
    "        probaliti.append(px)"
   ]
  },
  {
   "cell_type": "code",
   "execution_count": 17,
   "id": "9acc2c09",
   "metadata": {},
   "outputs": [
    {
     "name": "stdout",
     "output_type": "stream",
     "text": [
      "Kỳ vọng của biến ngẫu nhiên rời rạc: 0.9\n",
      "Phương sai của biến ngẫu ngiên rời rạc: 0.7\n",
      "Độ lệch chuẩn của biến ngẫu ngiên rời rạc: 0.49\n"
     ]
    }
   ],
   "source": [
    "from scipy.stats import rv_discrete\n",
    "custom_discrete = rv_discrete(name='custom', values=(variable_value, probaliti))\n",
    "print(\"Kỳ vọng của biến ngẫu nhiên rời rạc:\",  custom_discrete.expect())\n",
    "print(\"Phương sai của biến ngẫu ngiên rời rạc:\", custom_discrete.std())\n",
    "print(\"Độ lệch chuẩn của biến ngẫu ngiên rời rạc:\", custom_discrete.var())"
   ]
  },
  {
   "cell_type": "markdown",
   "id": "c9e710cf",
   "metadata": {},
   "source": [
    "- d. Sử dụng thư viện có sẵn tính Kỳ vọng, Phương sai, Độ lệch chuẩn cho dữ liệu ở câu b"
   ]
  },
  {
   "cell_type": "code",
   "execution_count": 28,
   "id": "7176f210",
   "metadata": {
    "scrolled": true
   },
   "outputs": [
    {
     "name": "stdout",
     "output_type": "stream",
     "text": [
      "Kỳ vọng của biến ngẫu nhiên liên tục: 10.000000000000002\n",
      "Phương sai của biến ngẫu ngiên liên tục: 50.0\n",
      "Độ lệch chuẩn của biến ngẫu ngiên liên tục: 7.0710678118654755\n"
     ]
    }
   ],
   "source": [
    "from scipy import integrate\n",
    "def pdf(x):\n",
    "    if 0 <= x <= 30:\n",
    "        return (30 - x) * 1/450\n",
    "    else:\n",
    "        return 0\n",
    "\n",
    "\n",
    "mean_value, _ = integrate.quad(lambda x: x * pdf(x), 0, 30)\n",
    "\n",
    "# Tính phương sai\n",
    "variance_value, _ = integrate.quad(lambda x: (x - mean_value)**2 * pdf(x), 0, 30)\n",
    "\n",
    "print(\"Kỳ vọng của biến ngẫu nhiên liên tục:\",  mean_value)\n",
    "print(\"Phương sai của biến ngẫu ngiên liên tục:\", variance_value)\n",
    "print(\"Độ lệch chuẩn của biến ngẫu ngiên liên tục:\", np.sqrt(variance_value))\n"
   ]
  },
  {
   "cell_type": "code",
   "execution_count": null,
   "id": "f251f1a6",
   "metadata": {},
   "outputs": [],
   "source": []
  }
 ],
 "metadata": {
  "kernelspec": {
   "display_name": "Python 3 (ipykernel)",
   "language": "python",
   "name": "python3"
  },
  "language_info": {
   "codemirror_mode": {
    "name": "ipython",
    "version": 3
   },
   "file_extension": ".py",
   "mimetype": "text/x-python",
   "name": "python",
   "nbconvert_exporter": "python",
   "pygments_lexer": "ipython3",
   "version": "3.10.5"
  }
 },
 "nbformat": 4,
 "nbformat_minor": 5
}
