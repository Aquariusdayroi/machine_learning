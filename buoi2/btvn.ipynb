{
 "cells": [
  {
   "cell_type": "markdown",
   "metadata": {},
   "source": [
    "# Tên: Lâm Quang Phú  \n",
    "# MSSV: 21094601"
   ]
  },
  {
   "cell_type": "markdown",
   "metadata": {},
   "source": [
    "## Bài 1:"
   ]
  },
  {
   "cell_type": "code",
   "execution_count": 2,
   "metadata": {},
   "outputs": [
    {
     "name": "stdout",
     "output_type": "stream",
     "text": [
      "Lỗi:  Danh sách kết quả không hợp lệ\n",
      "5.0\n"
     ]
    }
   ],
   "source": [
    "class FormulaError(Exception):\n",
    "    def __init__(self, mess):\n",
    "        self.mess = mess\n",
    "\n",
    "\n",
    "def handel(str_data):\n",
    "     \n",
    "    data = str_data.split()     \n",
    "    if len(data) != 3:\n",
    "        raise FormulaError(\"Danh sách kết quả không hợp lệ\")\n",
    "    \n",
    "    try: \n",
    "        f = float(data[0])\n",
    "        s =  data[1]\n",
    "        th = float(data[2])\n",
    "        if s != '+' and s != '-':\n",
    "            raise FormulaError(\"Toán tử không hợp lệ\")\n",
    "        elif s == '+':\n",
    "            return f + th\n",
    "        else:\n",
    "            return f - th\n",
    "        \n",
    "    except ValueError:\n",
    "        raise FormulaError(\"Không thể ép kiểu float\")\n",
    "\n",
    "\n",
    "while True: \n",
    "    user_input = input(\"Nhập vào công thức (vd: 1 + 1) hoặc 'exit' để thoát: \")\n",
    "    if user_input == 'exit': \n",
    "        break\n",
    "    \n",
    "    else:\n",
    "        try :\n",
    "            result = handel(user_input)\n",
    "            print(result)\n",
    "        except FormulaError as e: \n",
    "            print(\"Lỗi: \", e)\n"
   ]
  },
  {
   "cell_type": "markdown",
   "metadata": {},
   "source": [
    "# Bài 2:"
   ]
  },
  {
   "cell_type": "code",
   "execution_count": 11,
   "metadata": {},
   "outputs": [],
   "source": [
    "class Person:\n",
    "    def __init__(self, name, address):\n",
    "        self.name = name\n",
    "        self.address = address\n",
    "\n",
    "    def getName(self):\n",
    "        return self.name\n",
    "    \n",
    "    def getAdress(self):\n",
    "        return self.address\n",
    "    \n",
    "    def setAddress(self, address):\n",
    "        self.address = address\n",
    "    \n",
    "    def __str__(self):\n",
    "        return f\"Person(name = {self.name}, address = {self. address})\"\n",
    "    \n",
    "class Student (Person):\n",
    "    def __init__(self, name, address, program, year, fee):\n",
    "        super().__init__(name, address)\n",
    "        self.program = program\n",
    "        self.year = year\n",
    "        self.fee = fee\n",
    "\n",
    "    def getProgram(self):\n",
    "        return self.program\n",
    "    \n",
    "    def seProgram(self, program):\n",
    "        self.program = program\n",
    "\n",
    "    def getYear(self):\n",
    "        return self.year\n",
    "    \n",
    "    def getFee(self):\n",
    "        return self.fee\n",
    "    \n",
    "    def setFee(self, fee):\n",
    "        self.fee = fee\n",
    "\n",
    "    def __str__(self):\n",
    "        return f\"Student({super().__str__()}, program = {self.program}, year = {self.year}, fee = {self.fee})\"\n",
    "    \n",
    "\n",
    "class Staff(Person):\n",
    "    def __init__(self, name, address, school, pay):\n",
    "        super().__init__(name, address)\n",
    "        self.school = school\n",
    "        self.pay = pay\n",
    "\n",
    "    def getSchool(self):\n",
    "        return self.school\n",
    "\n",
    "    def setSchool(self, school):\n",
    "        self.school = school\n",
    "\n",
    "    def getPay(self):\n",
    "        return self.pay\n",
    "\n",
    "    def setPay(self, pay):\n",
    "        self.pay = pay\n",
    "\n",
    "    def __str__(self):\n",
    "        return f\"Staff({super().__str__()}, school = {self.school}, pay = {self.pay})\""
   ]
  },
  {
   "cell_type": "code",
   "execution_count": 15,
   "metadata": {},
   "outputs": [
    {
     "name": "stdout",
     "output_type": "stream",
     "text": [
      "\n",
      "Menu:\n",
      "1. Thêm dữ liệu (Student/Staff).\n",
      "2. Tìm học sinh theo tên.\n",
      "3. Thoát\n"
     ]
    },
    {
     "name": "stdout",
     "output_type": "stream",
     "text": [
      "Không tìm thấy học sinh nào có tên'Lâm Quang Phú'.\n",
      "\n",
      "Menu:\n",
      "1. Thêm dữ liệu (Student/Staff).\n",
      "2. Tìm học sinh theo tên.\n",
      "3. Thoát\n",
      "~To day it's a beautifull day.~\n"
     ]
    }
   ],
   "source": [
    "\n",
    "def add_data():\n",
    "    \n",
    "    type_person = input(\"Chọn đối tượng Student/Staff): \").lower()\n",
    "    name = input(\"Họ và tên: \")\n",
    "    address = input(\"Địa chỉ: \")\n",
    "\n",
    "    if type_person == \"student\":\n",
    "        program = input(\"Ngôn ngữ lập trình: \")\n",
    "        year = int(input(\"Niên khóa: \"))\n",
    "        fee = float(input(\"Học phí: \"))\n",
    "        return Student(name, address, program, year, fee)\n",
    "\n",
    "    elif type_person == \"staff\":\n",
    "        school = input(\"Trường học: \")\n",
    "        pay = float(input(\"Lương: \"))\n",
    "        return Staff(name, address, school, pay)\n",
    "\n",
    "    else:\n",
    "        print(\"Loại dữ liệu không hợp lệ\")\n",
    "        return None\n",
    "\n",
    "\n",
    "def search_by_name(people, name):\n",
    "    data_find = [person for person in people if isinstance(person, Student) and person.getName().lower() == name.lower()]\n",
    "    return data_find\n",
    "\n",
    "\n",
    "\n",
    "# import os\n",
    "\n",
    "if __name__ == \"__main__\":\n",
    "\n",
    "    people = []\n",
    "\n",
    "    while True:\n",
    "        print(\"\\nMenu:\")\n",
    "        print(\"1. Thêm dữ liệu (Student/Staff).\")\n",
    "        print(\"2. Tìm học sinh theo tên.\")\n",
    "        print(\"3. Thoát\")\n",
    "        # os.system(\"clear\")\n",
    "\n",
    "        choice = input(\"Chọn chức năng (1-3): \")\n",
    "\n",
    "        if choice == \"1\":\n",
    "            person = add_data()\n",
    "            if person:\n",
    "                people.append(person)\n",
    "                print(\"Thêm dữ liệu thành công.\")\n",
    "\n",
    "        elif choice == \"2\":\n",
    "            name = input(\"Tên học sinh cần tìm\")\n",
    "            student_find = search_by_name(people, name)\n",
    "\n",
    "            if student_find:\n",
    "                print(\"\\nTồn tại các học sinh có tên {name} sau:\")\n",
    "                for student in student_find:\n",
    "                    print(student)\n",
    "            else:\n",
    "                print(f\"Không tìm thấy học sinh nào có tên'{name}'.\")\n",
    "\n",
    "        elif choice == \"3\":\n",
    "            print(\"~To day it's a beautifull day.~\")\n",
    "            break\n",
    "        \n",
    "        else:\n",
    "            print(\"Đầu vào không hợp lại\")"
   ]
  },
  {
   "cell_type": "code",
   "execution_count": null,
   "metadata": {},
   "outputs": [],
   "source": []
  }
 ],
 "metadata": {
  "kernelspec": {
   "display_name": "Python 3",
   "language": "python",
   "name": "python3"
  },
  "language_info": {
   "codemirror_mode": {
    "name": "ipython",
    "version": 3
   },
   "file_extension": ".py",
   "mimetype": "text/x-python",
   "name": "python",
   "nbconvert_exporter": "python",
   "pygments_lexer": "ipython3",
   "version": "3.10.5"
  }
 },
 "nbformat": 4,
 "nbformat_minor": 2
}
