{
 "cells": [
  {
   "cell_type": "markdown",
   "metadata": {},
   "source": [
    "# Họ và Tên: Lâm Quang Phú\n",
    "# MSSV: 21094601"
   ]
  },
  {
   "cell_type": "markdown",
   "metadata": {},
   "source": [
    "## Import libary"
   ]
  },
  {
   "cell_type": "code",
   "execution_count": 2,
   "metadata": {},
   "outputs": [],
   "source": [
    "import pandas as pd\n",
    "import numpy as np"
   ]
  },
  {
   "cell_type": "markdown",
   "metadata": {},
   "source": [
    "## 1- Tính Entropy"
   ]
  },
  {
   "cell_type": "code",
   "execution_count": 149,
   "metadata": {},
   "outputs": [],
   "source": [
    "def Entropy(S):\n",
    "    prob1 =float(S[\"Yes\"])/float(S.sum())\n",
    "    prob0 = float(S[\"No\"])/float(S.sum())\n",
    "    return -prob0*np.log2(prob0)-prob1*np.log2(prob1)"
   ]
  },
  {
   "cell_type": "markdown",
   "metadata": {},
   "source": [
    "## 2- Tính Information gain"
   ]
  },
  {
   "cell_type": "code",
   "execution_count": 150,
   "metadata": {},
   "outputs": [],
   "source": [
    "def information_gain(A):\n",
    "    HxS= 0\n",
    "    for v in A:\n",
    "        HxS += len(v)*entropy(v) /len(A)\n",
    "    gain = entropy(A) - HxS "
   ]
  },
  {
   "cell_type": "markdown",
   "metadata": {},
   "source": [
    "## 3- Xây dựng cây Decision Tree"
   ]
  },
  {
   "cell_type": "code",
   "execution_count": 151,
   "metadata": {},
   "outputs": [],
   "source": [
    "class TreeNode(object):\n",
    "    def __init__(self, ids = None, children = [], entropy = 0):\n",
    "        self.ids = ids #phạm vi quản lý trong tập dữ liệu \n",
    "        self.children = children # Danh sách các node con\n",
    "        self.entropy = entropy # entropy của node\n",
    "        self.split_attribute = None # thuộc tính đại diện nếu nó không là node lá\n",
    "        self.order = None       # giá trị thuộc tính nếu là node con\n",
    "        self.label = None       # giá trị của lable nếu node là node lá"
   ]
  },
  {
   "cell_type": "code",
   "execution_count": 156,
   "metadata": {},
   "outputs": [],
   "source": [
    "class DecisionTreeID3(object):\n",
    "    def __init__(self):\n",
    "        pass\n",
    "    def fit(self, data, target):\n",
    "        self.N = data.count()[0] # số lượng dòng dữ liệu \n",
    "        self.data = data \n",
    "        self.attributes = list(data.columns) #Danh sách các thuộc tính\n",
    "        self.target = target  # danh sách mục tiêu \n",
    "        self.labels = target.unique() # các label trong mục tiêu\n",
    "        ids = range(self.N) # phạm vi tập dữ liệu\n",
    "        \n",
    "        \n",
    "        #Khởi tạo node gốc\n",
    "        self.root = TreeNode(ids, entropy = self._entropy(ids))\n",
    "        \n",
    "        queue = [self.root]\n",
    "        while queue:\n",
    "            node = queue.pop()\n",
    "            if \n",
    "        \n",
    "    def _entropy(self, ids):\n",
    "        if len(ids) == 0: \n",
    "            return 0\n",
    "        else:\n",
    "            S = self.target[ids].value_counts()\n",
    "            return entropy(S)"
   ]
  },
  {
   "cell_type": "code",
   "execution_count": 157,
   "metadata": {},
   "outputs": [
    {
     "name": "stderr",
     "output_type": "stream",
     "text": [
      "<ipython-input-124-3db3f5d4df59>:4: RuntimeWarning: invalid value encountered in log2\n",
      "  return -prob0*np.log2(prob0)-prob1*np.log2(prob1)\n"
     ]
    }
   ],
   "source": [
    "data_dict = [\n",
    "    {\"Outlook\": \"Sunny\", \"Humidity\": \"High\", \"Wind\": \"Weak\", \"PlayTennis\": \"No\"},\n",
    "    {\"Outlook\": \"Sunny\", \"Humidity\": \"High\", \"Wind\": \"Strong\", \"PlayTennis\": \"No\"},\n",
    "    {\"Outlook\": \"Overcast\", \"Humidity\": \"Normal\", \"Wind\": \"Weak\", \"PlayTennis\": \"Yes\"},\n",
    "    {\"Outlook\": \"Rainy\", \"Humidity\": \"Normal\", \"Wind\": \"Weak\", \"PlayTennis\": \"Yes\"},\n",
    "    {\"Outlook\": \"Rainy\", \"Humidity\": \"High\", \"Wind\": \"Strong\", \"PlayTennis\": \"No\"},\n",
    "    {\"Outlook\": \"Overcast\", \"Humidity\": \"Normal\", \"Wind\": \"Strong\", \"PlayTennis\": \"Yes\"},\n",
    "    {\"Outlook\": \"Sunny\", \"Humidity\": \"Normal\", \"Wind\": \"Weak\", \"PlayTennis\": \"Yes\"},\n",
    "    {\"Outlook\": \"Rainy\", \"Humidity\": \"High\", \"Wind\": \"Weak\", \"PlayTennis\": \"No\"},\n",
    "    {\"Outlook\": \"Sunny\", \"Humidity\": \"High\", \"Wind\": \"Strong\", \"PlayTennis\": \"No\"},\n",
    "    {\"Outlook\": \"Overcast\", \"Humidity\": \"Normal\", \"Wind\": \"Weak\", \"PlayTennis\": \"Yes\"},\n",
    "    {\"Outlook\": \"Sunny\", \"Humidity\": \"Normal\", \"Wind\": \"Strong\", \"PlayTennis\": \"Yes\"},\n",
    "    {\"Outlook\": \"Overcast\", \"Humidity\": \"Normal\", \"Wind\": \"Strong\", \"PlayTennis\": \"Yes\"},\n",
    "    {\"Outlook\": \"Rainy\", \"Humidity\": \"High\", \"Wind\": \"Weak\", \"PlayTennis\": \"No\"}\n",
    "]\n",
    "\n",
    "\n",
    "df = pd.DataFrame(data_dict)\n",
    "X = df.iloc[:, :-1]\n",
    "y = df.iloc[:, -1]\n",
    "\n",
    "tree = DecisionTreeID3()\n",
    "tree.fit(X, y)"
   ]
  },
  {
   "cell_type": "code",
   "execution_count": 116,
   "metadata": {},
   "outputs": [
    {
     "data": {
      "text/plain": [
       "6"
      ]
     },
     "execution_count": 116,
     "metadata": {},
     "output_type": "execute_result"
    }
   ],
   "source": [
    "res = y.value_counts()\n",
    "res[\"No\"]"
   ]
  },
  {
   "cell_type": "code",
   "execution_count": null,
   "metadata": {},
   "outputs": [],
   "source": []
  }
 ],
 "metadata": {
  "kernelspec": {
   "display_name": "Python 3",
   "language": "python",
   "name": "python3"
  },
  "language_info": {
   "codemirror_mode": {
    "name": "ipython",
    "version": 3
   },
   "file_extension": ".py",
   "mimetype": "text/x-python",
   "name": "python",
   "nbconvert_exporter": "python",
   "pygments_lexer": "ipython3",
   "version": "3.8.5"
  }
 },
 "nbformat": 4,
 "nbformat_minor": 4
}
