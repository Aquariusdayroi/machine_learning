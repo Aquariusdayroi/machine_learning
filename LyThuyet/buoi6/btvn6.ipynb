{
 "cells": [
  {
   "cell_type": "markdown",
   "metadata": {},
   "source": [
    "# Họ và Tên: Lâm Quang Phú\n",
    "# MSSV: 21094601"
   ]
  },
  {
   "cell_type": "markdown",
   "metadata": {},
   "source": [
    "## Import libary"
   ]
  },
  {
   "cell_type": "code",
   "execution_count": 87,
   "metadata": {},
   "outputs": [],
   "source": [
    "import pandas as pd\n",
    "import numpy as np"
   ]
  },
  {
   "cell_type": "markdown",
   "metadata": {},
   "source": [
    "## 1- Tính Entropy"
   ]
  },
  {
   "cell_type": "code",
   "execution_count": 88,
   "metadata": {},
   "outputs": [],
   "source": [
    "def entropy(S):\n",
    "    if len(S) == 0 : \n",
    "        return 0\n",
    "    target = S.iloc[:, -1]\n",
    "    S = target.value_counts()\n",
    "    \n",
    "    if len(S) == 1:\n",
    "        return 0\n",
    "    else:\n",
    "        prob1 =float(S[\"Yes\"])/float(S.sum())\n",
    "        prob0 = float(S[\"No\"])/float(S.sum())\n",
    "        return -prob0*np.log2(prob0)-prob1*np.log2(prob1)"
   ]
  },
  {
   "cell_type": "markdown",
   "metadata": {},
   "source": [
    "## 2- Tính Information gain"
   ]
  },
  {
   "cell_type": "code",
   "execution_count": 89,
   "metadata": {},
   "outputs": [],
   "source": [
    "def information_gain(t, A):\n",
    "    HxS= 0\n",
    "    n = 0\n",
    "    \n",
    "    for v in A:\n",
    "        n += len(v)\n",
    "        \n",
    "    for v in A:\n",
    "        HxS += len(v)*entropy(v)/n\n",
    "    gain = t.entropy - HxS \n",
    "    return gain"
   ]
  },
  {
   "cell_type": "markdown",
   "metadata": {},
   "source": [
    "## 3- Xây dựng cây Decision Tree"
   ]
  },
  {
   "cell_type": "code",
   "execution_count": 93,
   "metadata": {},
   "outputs": [],
   "source": [
    "\n",
    "\n",
    "class Node(object):\n",
    "    def __init__(self, data = None, children = [], entropy = 0):\n",
    "        self.data = data #Dữ liêu quản lý\n",
    "        self.children = children # Danh sách các node con\n",
    "        self.entropy = entropy # entropy của node\n",
    "        self.split_attribute = None # thuộc tính đại diện nếu nó không là node lá\n",
    "        self.order = None       # giá trị thuộc tính nếu là node con\n",
    "        self.label = None       # giá trị của lable nếu node là node lá\n",
    "\n",
    "    def set_properties(self, split_attribute, order):\n",
    "        self.split_attribute = split_attribute\n",
    "        self.order = order\n",
    "\n",
    "    def set_label(self, label):\n",
    "        self.label = label\n",
    "\n",
    "    \n",
    "        \n",
    "        \n",
    "def split_selection_method(t, data):\n",
    "    best_gain = 0\n",
    "    best_splits = []\n",
    "    best_attribute = None\n",
    "    order = None\n",
    "    for att in list(data.columns[:-1]):\n",
    "        values = data[att].unique().tolist()\n",
    "        if len(values) == 1:\n",
    "            continue #entropy = 0\n",
    "        splits = []\n",
    "        for val in values: \n",
    "            sub_data = data[data[att] == val]\n",
    "            splits.append(sub_data)\n",
    "            \n",
    "        gain = information_gain(t, splits)\n",
    "        if gain > best_gain:\n",
    "            best_gain = gain\n",
    "            best_splits = splits\n",
    "            best_attribute = att\n",
    "            order = values\n",
    "            \n",
    "    t.set_properties(best_attribute, order)\n",
    "    \n",
    "    child_nodes = [Node(data =  split, entropy = entropy(split)) for split in best_splits]\n",
    "    return child_nodes\n",
    "\n",
    "\n",
    "def BuildTree(t, data, split_selection_method):    \n",
    "    if t.entropy != 0:\n",
    "        t.children = split_selection_method(t, data)\n",
    "        if not t.children:\n",
    "            target = data.iloc[:, -1]\n",
    "            t.set_label(target.mode()[0])\n",
    "        for child in t.children:\n",
    "            BuildTree(child, child.data, split_selection_method)\n",
    "    else:\n",
    "        target = data.iloc[:, -1]\n",
    "        t.set_label(target.mode()[0])\n",
    " "
   ]
  },
  {
   "cell_type": "markdown",
   "metadata": {},
   "source": [
    "## 4- Áp dụng giải thuật này cho bộ dữ liệu sau"
   ]
  },
  {
   "cell_type": "code",
   "execution_count": 135,
   "metadata": {},
   "outputs": [
    {
     "name": "stdout",
     "output_type": "stream",
     "text": [
      "Predict\n",
      "====================\n",
      "['Sunny' 'High' 'Weak']  No\n",
      "['Sunny' 'High' 'Strong']  No\n",
      "['Overcast' 'High' 'Weak']  Yes\n",
      "['Rain' 'High' 'Weak']  Yes\n",
      "['Rain' 'Normal' 'Weak']  Yes\n",
      "['Rain' 'Normal' 'Strong']  No\n",
      "['Overcast' 'Normal' 'Strong']  Yes\n",
      "['Sunny' 'High' 'Weak']  No\n",
      "['Sunny' 'Normal' 'Weak']  Yes\n",
      "['Rain' 'Normal' 'Weak']  Yes\n",
      "['Sunny' 'Normal' 'Strong']  Yes\n",
      "['Overcast' 'High' 'Strong']  Yes\n",
      "['Overcast' 'Normal' 'Weak']  Yes\n",
      "['Rain' 'High' 'Strong']  No\n",
      "====================\n"
     ]
    }
   ],
   "source": [
    "def predict(root, new_data):\n",
    "    npoints = new_data.count()[0]\n",
    "    labels = [None]*npoints\n",
    "    for i in range(npoints):\n",
    "        x = new_data.iloc[i, :] \n",
    "        # bắt đầu từ gốc và di chuyển đệ quy nếu không gặp lá\n",
    "        node = root\n",
    "        while node.children: \n",
    "            node = node.children[node.order.index(x[node.split_attribute])]\n",
    "        \n",
    "        print(f\"{x.values}  {node.label}\")\n",
    "        \n",
    "        labels[i] = node.label\n",
    "\n",
    "    return labels\n",
    "\n",
    "data_dict = [\n",
    "    {\"Outlook\": \"Sunny\", \"Humidity\": \"High\", \"Wind\": \"Weak\", \"PlayTennis\": \"No\"},\n",
    "    {\"Outlook\": \"Sunny\", \"Humidity\": \"High\", \"Wind\": \"Strong\", \"PlayTennis\": \"No\"},\n",
    "    {\"Outlook\": \"Overcast\", \"Humidity\": \"High\", \"Wind\": \"Weak\", \"PlayTennis\": \"Yes\"},\n",
    "    {\"Outlook\": \"Rain\", \"Humidity\": \"High\", \"Wind\": \"Weak\", \"PlayTennis\": \"Yes\"},\n",
    "    {\"Outlook\": \"Rain\", \"Humidity\": \"Normal\", \"Wind\": \"Weak\", \"PlayTennis\": \"Yes\"},\n",
    "    {\"Outlook\": \"Rain\", \"Humidity\": \"Normal\", \"Wind\": \"Strong\", \"PlayTennis\": \"No\"},\n",
    "    {\"Outlook\": \"Overcast\", \"Humidity\": \"Normal\", \"Wind\": \"Strong\", \"PlayTennis\": \"Yes\"},\n",
    "    {\"Outlook\": \"Sunny\", \"Humidity\": \"High\", \"Wind\": \"Weak\", \"PlayTennis\": \"No\"},\n",
    "    {\"Outlook\": \"Sunny\", \"Humidity\": \"Normal\", \"Wind\": \"Weak\", \"PlayTennis\": \"Yes\"},\n",
    "    {\"Outlook\": \"Rain\", \"Humidity\": \"Normal\", \"Wind\": \"Weak\", \"PlayTennis\": \"Yes\"},\n",
    "    {\"Outlook\": \"Sunny\", \"Humidity\": \"Normal\", \"Wind\": \"Strong\", \"PlayTennis\": \"Yes\"},\n",
    "    {\"Outlook\": \"Overcast\", \"Humidity\": \"High\", \"Wind\": \"Strong\", \"PlayTennis\": \"Yes\"},\n",
    "    {\"Outlook\": \"Overcast\", \"Humidity\": \"Normal\", \"Wind\": \"Weak\", \"PlayTennis\": \"Yes\"},\n",
    "    {\"Outlook\": \"Rain\", \"Humidity\": \"High\", \"Wind\": \"Strong\", \"PlayTennis\": \"No\"}\n",
    "]\n",
    "\n",
    "\n",
    "df = pd.DataFrame(data_dict)\n",
    "X = df.iloc[:, :-1]\n",
    "y = df.iloc[:, -1]\n",
    "\n",
    "\n",
    "\n",
    "root = Node(data = df, entropy= entropy(df))\n",
    "BuildTree(root, df, split_selection_method)\n",
    "\n",
    "print(\"Predict\")\n",
    "print(\"=\"*20)\n",
    "predict(root, X)\n",
    "print(\"=\"*20)"
   ]
  }
 ],
 "metadata": {
  "kernelspec": {
   "display_name": "Python 3 (ipykernel)",
   "language": "python",
   "name": "python3"
  },
  "language_info": {
   "codemirror_mode": {
    "name": "ipython",
    "version": 3
   },
   "file_extension": ".py",
   "mimetype": "text/x-python",
   "name": "python",
   "nbconvert_exporter": "python",
   "pygments_lexer": "ipython3",
   "version": "3.10.5"
  }
 },
 "nbformat": 4,
 "nbformat_minor": 4
}
