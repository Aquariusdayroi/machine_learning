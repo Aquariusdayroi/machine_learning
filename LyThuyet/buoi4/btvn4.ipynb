{
 "cells": [
  {
   "cell_type": "markdown",
   "id": "068ab038",
   "metadata": {},
   "source": [
    "# Họ và tên: Lâm Quang Phú\n",
    "# MSSV: 21094601"
   ]
  },
  {
   "cell_type": "markdown",
   "id": "3083dbb7",
   "metadata": {},
   "source": [
    "## Bài 1:\n",
    "Mẫu dưới đây thu nhận ngẫu nhiên độ tuổi của người mắc bệnh tiểu đường ở một địa bàn \n",
    "trong thời gian khảo sát:\n",
    "35 37 40 42 55 57 60 61 66 45\n",
    "Có ý kiến cho rằng \"Người mắc bệnh tiểu đường có độ tuổi trung bình trên 45 tuổi\". Với \n",
    "mức ý nghĩa 5% bạn hãy kiểm định ý kiến này đúng hay sai? Hãy tính toán và đưa ra kết \n",
    "luận?\n"
   ]
  },
  {
   "cell_type": "markdown",
   "id": "4d551b37",
   "metadata": {},
   "source": [
    "$\\text{Giả thiết null (H0):} \\quad \\mu = 45$\n",
    "\n",
    "$\\text{Giả thiết thay thế (H1):} \\quad \\mu > 45$\n",
    "\n",
    "$\\bar{X} = \\frac{35 + 37 + 40 + 42 + 55 + 57 + 60 + 61 + 66 + 45}{10} = 49.8$\n",
    "$S = \\sqrt{\\frac{(35-49.8)^2 + (37-49.8)^2 + \\ldots + (45-49.8)^2}{9}} \\approx 9.41$\n",
    "\n",
    "$t = \\frac{49.8 - 45}{\\frac{9.41}{\\sqrt{10}}} \\approx 2.12$\n",
    "\n",
    "$t_{\\text{critical}} \\approx 1.833 \\quad \\text{(với } df = 9 \\text{ và } \\alpha = 0.05)$\n",
    "\n",
    "$\\text{Vì } t = 2.12 > t_{\\text{critical}} = 1.833, \\text{ nên bác bỏ giả thiết null.}$\n",
    "\n",
    "**Vì vậy ở mức ý nghĩa 5%, chúng ta có đủ bằng chứng để kết luận rằng độ tuổi trung bình của người mắc bệnh tiểu đường là lớn hơn 45 tuổi.**\n"
   ]
  },
  {
   "cell_type": "code",
   "execution_count": 10,
   "id": "7b1d9aa9",
   "metadata": {},
   "outputs": [],
   "source": [
    "import numpy as np\n",
    "from scipy.stats import t"
   ]
  },
  {
   "cell_type": "code",
   "execution_count": 11,
   "id": "db467aaa",
   "metadata": {},
   "outputs": [
    {
     "name": "stdout",
     "output_type": "stream",
     "text": [
      "Giá trị thống kê t: 1.3524853621776194\n",
      "Giá trị t critical: 1.8331129326536333\n",
      "Không đủ bằng chứng để bác bỏ giả thiết null.\n"
     ]
    }
   ],
   "source": [
    "# Dữ liệu mẫu\n",
    "data = np.array([35, 37, 40, 42, 55, 57, 60, 61, 66, 45])\n",
    "\n",
    "# Giả thiết null\n",
    "mu_0 = 45\n",
    "\n",
    "# Tính giá trị trung bình của mẫu\n",
    "sample_mean = np.mean(data)\n",
    "\n",
    "# Tính độ lệch chuẩn của mẫu\n",
    "sample_std = np.std(data, ddof=1)\n",
    "\n",
    "# Tính giá trị thống kê t\n",
    "t_statistic = (sample_mean - mu_0) / (sample_std / np.sqrt(len(data)))\n",
    "\n",
    "# Tính giá trị t critical\n",
    "df = len(data) - 1\n",
    "alpha = 0.05\n",
    "t_critical = t.ppf(1 - alpha, df)\n",
    "reject_null = t_statistic > t_critical\n",
    "\n",
    "print(f\"Giá trị thống kê t: {t_statistic}\")\n",
    "print(f\"Giá trị t critical: {t_critical}\")\n",
    "print(\"Bác bỏ giả thiết null.\" if reject_null else \"Không đủ bằng chứng để bác bỏ giả thiết null.\")"
   ]
  },
  {
   "cell_type": "markdown",
   "id": "dc394251",
   "metadata": {},
   "source": [
    "## Bài 2:\n",
    "Điều tra chi tiêu hàng năm của 40 công nhân khu công nghiệp A thấy trung bình mẫu là \n",
    "34 triệu đồng và độ lệch chuẩn mẫu là 5,8 triệu đồng. Điều tra công nhân tại khu công \n",
    "nghiệp B thì chi tiêu trung bình là 35 triệu đồng và độ lệch chuẩn là 5 triệu đồng.\n",
    "- Với mức ý nghĩa 5%, có thể cho rằng chỉ tiêu trung bình của công nhân khu công \n",
    "nghiệp A và B là như nhau không?\n",
    "- Tính p-value của kiểm định và cho biết kết luận thu được có thể mắc phải sai lầm loại \n",
    "mấy? Giả thiết chi tiêu công nhân là biến ngẫu nhiên phân phối chuẩn."
   ]
  },
  {
   "cell_type": "markdown",
   "id": "7f34f9ad",
   "metadata": {},
   "source": [
    "$\\text{Giả thiết:}\n",
    "\\begin{align*}\n",
    "&H_0: \\mu_A = \\mu_B \\quad \\text{(Chỉ tiêu trung bình của công nhân khu công nghiệp A và B là như nhau)} \\\\\n",
    "&H_1: \\mu_A \\neq \\mu_B \\quad \\text{(Chỉ tiêu trung bình của công nhân khu công nghiệp A và B không như nhau)}\n",
    "\\end{align*}$\n",
    "\n",
    "$\\text{Dữ liệu:}\n",
    "\\begin{align*}\n",
    "&n_A = 40 \\quad \\text{(kích thước mẫu công nhân khu công nghiệp A)} \\\\\n",
    "&n_B = 40 \\quad \\text{(giả sử kích thước mẫu công nhân khu công nghiệp B cũng là 40)}\n",
    "\\end{align*}$\n",
    "\n",
    "$\\text{Thông tin:}\n",
    "\\begin{align*}\n",
    "&\\bar{X}_A = 34 \\quad \\text{(trung bình mẫu của công nhân khu công nghiệp A)} \\\\\n",
    "&\\bar{X}_B = 35 \\quad \\text{(trung bình mẫu của công nhân khu công nghiệp B)} \\\\\n",
    "&s_A = 5.8 \\quad \\text{(độ lệch chuẩn mẫu của công nhân khu công nghiệp A)} \\\\\n",
    "&s_B = 5 \\quad \\text{(độ lệch chuẩn mẫu của công nhân khu công nghiệp B)}\n",
    "\\end{align*}$\n",
    "\n",
    "$\n",
    "\\begin{align*}\n",
    "&t = \\frac{(\\bar{X}_A - \\bar{X}_B)}{\\sqrt{\\frac{s_A^2}{n_A} + \\frac{s_B^2}{n_B}}}\n",
    "\\end{align*}$\n",
    "\n",
    "$\\text{P-value:}\n",
    "\\begin{align*}\n",
    " (df = n_A + n_B - 2).\n",
    "\\end{align*}$\n",
    "\n"
   ]
  },
  {
   "cell_type": "code",
   "execution_count": 12,
   "id": "7fda71e0",
   "metadata": {},
   "outputs": [
    {
     "name": "stdout",
     "output_type": "stream",
     "text": [
      "Giá trị t-statistic: -0.8259105521236186\n",
      "P-value: 0.4113739395395395\n",
      "Không đủ bằng chứng để bác bỏ giả thiết null.\n"
     ]
    }
   ],
   "source": [
    "# Dữ liệu và thông tin\n",
    "n_A = 40\n",
    "n_B = 40  # Giả sử kích thước mẫu công nhân khu công nghiệp B cũng là 40\n",
    "mean_A = 34\n",
    "mean_B = 35\n",
    "std_A = 5.8\n",
    "std_B = 5\n",
    "\n",
    "# Tính giá trị t-statistic\n",
    "t_statistic = (mean_A - mean_B) / np.sqrt((std_A**2 / n_A) + (std_B**2 / n_B))\n",
    "\n",
    "# Tính p-value\n",
    "df = n_A + n_B - 2\n",
    "p_value = 2 * (1 - t.cdf(np.abs(t_statistic), df))\n",
    "alpha = 0.05\n",
    "reject_null = p_value < alpha\n",
    "print(f\"Giá trị t-statistic: {t_statistic}\")\n",
    "print(f\"P-value: {p_value}\")\n",
    "print(\"Bác bỏ giả thiết null.\" if reject_null else \"Không đủ bằng chứng để bác bỏ giả thiết null.\")"
   ]
  },
  {
   "cell_type": "markdown",
   "id": "2439bc83",
   "metadata": {},
   "source": [
    "$\\begin{align*}\n",
    "&\\text{p-value < } \\alpha, \\text{ ta bác bỏ }\n",
    "\\end{align*}$ **Vì vậy có đủ bằng chứng để kết luận rằng chỉ tiêu trung bình của công nhân khu công nghiệp A và B khác nhau.**\n"
   ]
  },
  {
   "cell_type": "markdown",
   "id": "40aa7b78",
   "metadata": {},
   "source": [
    "**Sai lầm loại một có thể xảy ra nếu bác bỏ giả thiết null khi thực sự không có sự khác biệt (khi alpha thấp, nguy cơ sai lầm loại I tăng lên)**"
   ]
  },
  {
   "cell_type": "markdown",
   "id": "070112ef",
   "metadata": {},
   "source": [
    "## Bài 3:\n",
    "Quảng cáo của một công ty cho rằng tỷ lệ phế phẩm của công ty trên thị trường tối đa là \n",
    "12%. Kiểm tra 400 sản phẩm của công ty trên thị trường thì có 60 phế phẩm. Với mức ý \n",
    "nghĩa 5% có thể cho rằng quảng cáo của công ty là đúng không"
   ]
  },
  {
   "cell_type": "markdown",
   "id": "458c4fdd",
   "metadata": {},
   "source": [
    "$\\text{Giả thiết:}\n",
    "\\begin{align*}\n",
    "&H_0: p \\leq 0.12 \\quad \\text{(Quảng cáo đúng, tỷ lệ phế phẩm tối đa là 12%)} \\\\\n",
    "&H_1: p > 0.12 \\quad \\text{(Quảng cáo sai, tỷ lệ phế phẩm lớn hơn 12%)}\n",
    "\\end{align*}$\n",
    "\n",
    "$\\text{Dữ liệu và thông tin:}\n",
    "\\begin{align*}\n",
    "&n = 400 \\quad \\text{(số lượng sản phẩm được kiểm tra)} \\\\\n",
    "&x = 60 \\quad \\text{(số lượng phế phẩm trong mẫu)} \\\\\n",
    "&p_0 = 0.12 \\quad \\text{(tỷ lệ phế phẩm tối đa theo quảng cáo)}\n",
    "\\end{align*}$\n",
    "\n",
    "$\n",
    "\\begin{align*}\n",
    "&z = \\frac{\\hat{p} - p_0}{\\sqrt{\\frac{p_0(1-p_0)}{n}}}\n",
    "\\end{align*}$"
   ]
  },
  {
   "cell_type": "code",
   "execution_count": 13,
   "id": "38989f85",
   "metadata": {},
   "outputs": [],
   "source": [
    "from scipy.stats import norm"
   ]
  },
  {
   "cell_type": "code",
   "execution_count": 14,
   "id": "29b2e225",
   "metadata": {},
   "outputs": [
    {
     "name": "stdout",
     "output_type": "stream",
     "text": [
      "Tỷ lệ mẫu: 0.15\n",
      "Z-score: 1.846372364689991\n",
      "P-value: 0.032419078496033205\n",
      "Bác bỏ giả thiết null.\n"
     ]
    }
   ],
   "source": [
    "# Dữ liệu và thông tin\n",
    "n = 400\n",
    "x = 60\n",
    "p_0 = 0.12\n",
    "\n",
    "# Tính tỷ lệ mẫu\n",
    "p_hat = x / n\n",
    "\n",
    "# Tính z-score\n",
    "z_score = (p_hat - p_0) / np.sqrt((p_0 * (1 - p_0)) / n)\n",
    "\n",
    "# Tính p-value\n",
    "p_value = 1 - norm.cdf(z_score)\n",
    "alpha = 0.05\n",
    "reject_null = p_value < alpha\n",
    "print(f\"Tỷ lệ mẫu: {p_hat}\")\n",
    "print(f\"Z-score: {z_score}\")\n",
    "print(f\"P-value: {p_value}\")\n",
    "print(\"Bác bỏ giả thiết null.\" if reject_null else \"Không đủ bằng chứng để bác bỏ giả thiết null.\")\n"
   ]
  },
  {
   "cell_type": "markdown",
   "id": "3f4e12a0",
   "metadata": {},
   "source": [
    "$\\begin{align*}\n",
    "&\\text{ p-value < } \\alpha, \\text{ ta bác bỏ } H_0\n",
    "\\end{align*}$\n",
    "**Vì vậy có đủ bằng chứng để kết luận rằng tỷ lệ phế phẩm lớn hơn 12%**"
   ]
  },
  {
   "cell_type": "code",
   "execution_count": null,
   "id": "3fd7a4ed",
   "metadata": {},
   "outputs": [],
   "source": []
  }
 ],
 "metadata": {
  "kernelspec": {
   "display_name": "Python 3 (ipykernel)",
   "language": "python",
   "name": "python3"
  },
  "language_info": {
   "codemirror_mode": {
    "name": "ipython",
    "version": 3
   },
   "file_extension": ".py",
   "mimetype": "text/x-python",
   "name": "python",
   "nbconvert_exporter": "python",
   "pygments_lexer": "ipython3",
   "version": "3.10.5"
  }
 },
 "nbformat": 4,
 "nbformat_minor": 5
}
